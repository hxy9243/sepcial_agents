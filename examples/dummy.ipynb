{
 "cells": [
  {
   "cell_type": "code",
   "execution_count": 1,
   "metadata": {},
   "outputs": [
    {
     "name": "stdout",
     "output_type": "stream",
     "text": [
      "\n",
      "\n",
      "\u001b[1m> Entering new AgentExecutor chain...\u001b[0m\n",
      "\u001b[32;1m\u001b[1;3mAgent Action: \u001b[0m\u001b[36;1m\u001b[1;3mhello world\n",
      "\u001b[0m\u001b[32;1m\u001b[1;3mAgent Action: \u001b[0m\u001b[36;1m\u001b[1;3mhello world\n",
      "\u001b[0m\u001b[32;1m\u001b[1;3mAgent Action: \u001b[0m\u001b[36;1m\u001b[1;3mhello world\n",
      "\u001b[0m\u001b[32;1m\u001b[1;3mAction Finished: \u001b[0m\n",
      "\n",
      "\u001b[1m> Finished chain.\u001b[0m\n"
     ]
    },
    {
     "data": {
      "text/plain": [
       "'Finished execution'"
      ]
     },
     "execution_count": 1,
     "metadata": {},
     "output_type": "execute_result"
    }
   ],
   "source": [
    "from langchain.agents.agent import AgentExecutor\n",
    "from langchain.tools.python.tool import PythonAstREPLTool\n",
    "\n",
    "from special_agents.agents import DummyAgent\n",
    "\n",
    "python_tool = PythonAstREPLTool(description='Python AST tool to execute python script')\n",
    "\n",
    "tools = [python_tool]\n",
    "\n",
    "dummy = DummyAgent(\n",
    "    tool=python_tool.name, \n",
    "    count=3,\n",
    "    )\n",
    "executor = AgentExecutor.from_agent_and_tools(\n",
    "    agent=dummy,\n",
    "    tools=tools,\n",
    "    verbose=True,\n",
    ")\n",
    "executor.run({'tool_input': 'print(\"hello world\")'})"
   ]
  },
  {
   "cell_type": "code",
   "execution_count": null,
   "metadata": {},
   "outputs": [],
   "source": []
  }
 ],
 "metadata": {
  "kernelspec": {
   "display_name": ".venv",
   "language": "python",
   "name": "python3"
  },
  "language_info": {
   "codemirror_mode": {
    "name": "ipython",
    "version": 3
   },
   "file_extension": ".py",
   "mimetype": "text/x-python",
   "name": "python",
   "nbconvert_exporter": "python",
   "pygments_lexer": "ipython3",
   "version": "3.10.6"
  },
  "orig_nbformat": 4
 },
 "nbformat": 4,
 "nbformat_minor": 2
}
